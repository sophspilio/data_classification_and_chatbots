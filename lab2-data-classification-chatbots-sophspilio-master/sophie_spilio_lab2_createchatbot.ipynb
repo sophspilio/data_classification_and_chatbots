{
  "nbformat": 4,
  "nbformat_minor": 0,
  "metadata": {
    "colab": {
      "name": "sophie_spilio_lab2:createchatbot.ipynb",
      "provenance": [],
      "collapsed_sections": [],
      "authorship_tag": "ABX9TyMEEbO+Ew4fRgXptbGgSj6z",
      "include_colab_link": true
    },
    "kernelspec": {
      "name": "python3",
      "display_name": "Python 3"
    }
  },
  "cells": [
    {
      "cell_type": "markdown",
      "metadata": {
        "id": "view-in-github",
        "colab_type": "text"
      },
      "source": [
        "<a href=\"https://colab.research.google.com/github/IDCE-MSGIS/lab2-data-classification-chatbots-sophspilio/blob/master/sophie_spilio_lab2_createchatbot.ipynb\" target=\"_parent\"><img src=\"https://colab.research.google.com/assets/colab-badge.svg\" alt=\"Open In Colab\"/></a>"
      ]
    },
    {
      "cell_type": "markdown",
      "metadata": {
        "id": "6cvp-MpPl1v7",
        "colab_type": "text"
      },
      "source": [
        "#Lab 2: Data Classification and Chatbots\n",
        "###Part 2: Creating a Chatbot\n",
        "Due Sept. 11 "
      ]
    },
    {
      "cell_type": "code",
      "metadata": {
        "id": "LUjEN2vJliaQ",
        "colab_type": "code",
        "colab": {}
      },
      "source": [
        "''' \n",
        "Sophie Spiliotopoulos \n",
        "Created Sept. 4\n",
        "Lab 2: Data Classificaiton and Chatbots\n",
        "Creating a Chatbox \n",
        "'''\n",
        "def computer(name,age):  # defining function, using two variables, one for user's age other for users name\n",
        "  name = input(\"What is your name? \") #user inputs their own name\n",
        "  if name == 'Sophie': \n",
        "    print(\"Hi Sophie\")\n",
        "  elif name == 'Juliette':  \n",
        "    print(\"Heyyyy Juliette\")\n",
        "  else: \n",
        "    print( \"Howdy\", name,\"🤠\")\n",
        "  age = int(input(\"How old are you? \")) #user inputs their age \n",
        "  if age >= 24: \n",
        "    print(\"Wow,\",name,\"You're old!\") \n",
        "  else:\n",
        "    print(\"Wow\",name,\"You're young!\")\n",
        "\n",
        "computer(name,age) #call the function \n",
        "\n"
      ],
      "execution_count": null,
      "outputs": []
    }
  ]
}