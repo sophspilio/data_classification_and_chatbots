{
  "nbformat": 4,
  "nbformat_minor": 0,
  "metadata": {
    "colab": {
      "name": "sophie_spilio_lab2: classifying_data.ipynb",
      "provenance": [],
      "authorship_tag": "ABX9TyP7A3Q3b+haeVI4NNK2XHrI",
      "include_colab_link": true
    },
    "kernelspec": {
      "name": "python3",
      "display_name": "Python 3"
    }
  },
  "cells": [
    {
      "cell_type": "markdown",
      "metadata": {
        "id": "view-in-github",
        "colab_type": "text"
      },
      "source": [
        "<a href=\"https://colab.research.google.com/github/IDCE-MSGIS/lab2-data-classification-chatbots-sophspilio/blob/master/sophie_spilio_lab2_classifying_data.ipynb\" target=\"_parent\"><img src=\"https://colab.research.google.com/assets/colab-badge.svg\" alt=\"Open In Colab\"/></a>"
      ]
    },
    {
      "cell_type": "markdown",
      "metadata": {
        "id": "2Biy3iuyi2r1",
        "colab_type": "text"
      },
      "source": [
        "#Lab 2: Data Classificaiton and Chatbots\n",
        "###Part 1: Defining a function and classifying data \n",
        "Due Friday Sept. 11 "
      ]
    },
    {
      "cell_type": "code",
      "metadata": {
        "id": "YG8aIPBQihr7",
        "colab_type": "code",
        "colab": {
          "base_uri": "https://localhost:8080/",
          "height": 51
        },
        "outputId": "a49070cb-3cfa-4275-872a-b2a96f0deb8e"
      },
      "source": [
        "'''\n",
        "Sophie Spiliotopoulos\n",
        "Created Sept 4\n",
        "Lab 2: Data Classification & Chatbots \n",
        "Defining a function and classifying data \n",
        "'''\n",
        "temp = int(input(\"What is the temperature? \")) # user inputs temperature value \n",
        "def feelTemp(temp):   # defining the function feelTemp\n",
        "  if temp >= 100:   \n",
        "    print(\"It is hot.\")\n",
        "  elif 70 <= temp < 100: \n",
        "    print(\"It is warm.\")\n",
        "  elif 32 <= temp < 70: \n",
        "    print(\"It is cool.\")\n",
        "  else: \n",
        "    print(\"It is cold.\")\n",
        "\n",
        "feelTemp(temp)"
      ],
      "execution_count": 11,
      "outputs": [
        {
          "output_type": "stream",
          "text": [
            "What is the temperature? 90\n",
            "It is warm.\n"
          ],
          "name": "stdout"
        }
      ]
    }
  ]
}